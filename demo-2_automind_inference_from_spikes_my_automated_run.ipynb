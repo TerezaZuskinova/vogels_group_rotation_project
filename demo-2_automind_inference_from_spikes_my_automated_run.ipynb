{
 "cells": [
  {
   "cell_type": "markdown",
   "metadata": {},
   "source": [
    "# Demo 2. Network burst inference from raw spike train data\n",
    "### Richard's comments:\n",
    "This demo is similar to the previous one, where we aim to do inference with a trained density estimator. But now, we target a real experimental recording. Specifically, we want to discover circuit models that can reproduce a multi-electrode array recording from the organoid dataset (unused in the publication), starting from spike times over 64 electrodes. \n",
    "\n",
    "We will walk through how to compute network burst summary statistics such that we can use them for inference, get samples from the trained density estimator, and then simulate and analyze a few of those discovered model configurations to check if they indeed reproduce the target observation.\n",
    "\n",
    "For more details, visit the [AutoMIND preprint](https://www.biorxiv.org/content/10.1101/2024.08.21.608969v1).\n",
    "\n",
    "---\n",
    "Note: to run this notebook live, you will first need to download and unzip the trained DGMs and example dataset. You can find them from the data repository links on the [homepage](https://github.com/mackelab/automind), and you should place them in the appropriate directories by following the included instructions (or simply change the datapaths below).\n",
    "\n",
    "### My comments: \n",
    "This notebook is specifically created for my particular dataset of 10 week develepment and I am looking for best matching 10 discovered models (posterior samples). In this particular one, since it takes a long time to run 10 x 10 simulations, I have put it into a single notebook. The analysis and plotting is done in a separate one. "
   ]
  },
  {
   "cell_type": "code",
   "execution_count": 1,
   "metadata": {},
   "outputs": [],
   "source": [
    "# Imports\n",
    "%load_ext autoreload\n",
    "%autoreload 2\n",
    "\n",
    "import matplotlib.pyplot as plt\n",
    "\n",
    "#mpl_rc = \"automind/assets/matplotlibrc\"\n",
    "#plt.style.use(mpl_rc)\n",
    "\n",
    "import os\n",
    "import numpy as np\n",
    "import pandas as pd\n",
    "from time import time\n",
    "import pickle\n",
    "from torch import Tensor\n",
    "\n",
    "import brian2 as b2\n",
    "from automind.sim import b2_interface, runners\n",
    "from automind.inference import inferer\n",
    "from automind.utils import data_utils, analysis_utils, dist_utils, plot_utils\n",
    "from automind.analysis import spikes_summary"
   ]
  },
  {
   "cell_type": "markdown",
   "metadata": {},
   "source": [
    "---\n",
    "# Load trained DGM and meta info, and dataset\n",
    "We first load the trained deep generative model (Normalizing Flow) stored in the `posterior.pickle` file, along with some analysis parameters we need in `params_dict_analysis_updated.pickle`.\n",
    "\n",
    "As its name suggests, the posterior file contains the trained posterior estimator neural network, constructed using the `sbi` package. The one we use below is particular to the type of data feature we wish to target, i.e., network burst statistics.\n",
    "\n",
    "In addition, it contains some meta information, like the specific data features it was trained on---and hence must be passed during inference---as well as data preprocessing steps, which must also be applied to the target observation as well.\n",
    "\n",
    "Unlike the previous demo, we don't need to load the discovered samples dataset, since we're loading and composing the target data from scratch."
   ]
  },
  {
   "cell_type": "code",
   "execution_count": 2,
   "metadata": {},
   "outputs": [
    {
     "name": "stdout",
     "output_type": "stream",
     "text": [
      "posterior.pickle ['5065886_posterior.pickle']\n",
      "params_dict_analysis_updated.pickle ['5065886_MK1_params_dict_analysis_updated.pickle']\n",
      "summary_data_merged.csv ['5065886_MK1_summary_data_merged.csv']\n",
      "2502 samples per xo.\n",
      "Posterior conditional density p(θ|x) of type DirectPosterior. It samples the posterior network and rejects samples that\n",
      "            lie outside of the prior bounds.\n",
      "-------------------------\n",
      "Density estimator was trained on these features: ['burst_interval_mean', 'burst_interval_cv', 'burst_width_mean', 'burst_offset_time_mean']\n"
     ]
    }
   ],
   "source": [
    "data_dirs = \"../automind/datasets/discovered_posterior_samples/organoids/\"\n",
    "path_dict = data_utils.extract_data_files(\n",
    "    data_dirs,\n",
    "    [\n",
    "        \"posterior.pickle\",\n",
    "        \"params_dict_analysis_updated.pickle\",\n",
    "        \"summary_data_merged.csv\",\n",
    "    ],\n",
    ")\n",
    "_, posterior, params_dict = data_utils.load_df_posteriors(path_dict)\n",
    "print(posterior)\n",
    "\n",
    "cols_features = list(posterior.x_bounds_and_transforms.keys())\n",
    "print(\"-------------------------\")\n",
    "print(f'Density estimator was trained on these features: {cols_features}')"
   ]
  },
  {
   "cell_type": "markdown",
   "metadata": {},
   "source": [
    "### Load and process target data from raw spike times\n",
    "Here, we use another recording from the organoid dataset, and demonstrate how to start from raw spike times to computing summary features amenable to be used for inference."
   ]
  },
  {
   "cell_type": "code",
   "execution_count": 15,
   "metadata": {},
   "outputs": [
    {
     "name": "stdout",
     "output_type": "stream",
     "text": [
      "Loaded 10 recordings.\n"
     ]
    }
   ],
   "source": [
    "# Load the list of spike files\n",
    "spike_files_path = '/nfs/scistore12/gaspgrp/tzuskino/vogels_lab_rotation/figures/data_from_company/M03821_well001/spike_files.txt'\n",
    "with open(spike_files_path, 'r') as file:\n",
    "    spike_files = file.read().splitlines()\n",
    "\n",
    "# Load the spike data from each file\n",
    "spike_data = []\n",
    "names_files = []\n",
    "for i, spike_file in enumerate(spike_files):\n",
    "    spikes_df = pd.read_parquet(spike_file)\n",
    "    spike_dict = spikes_df.groupby('Neuron')['Time (s)'].apply(np.array).to_dict()\n",
    "    spike_data.append(spike_dict)\n",
    "    names_files.append(os.path.basename(os.path.dirname(os.path.dirname(spike_file))))\n",
    "\n",
    "# Print the number of recordings loaded\n",
    "print(f\"Loaded {len(spike_data)} recordings.\")"
   ]
  },
  {
   "cell_type": "markdown",
   "metadata": {},
   "source": [
    "Next, we convert the list of spikes into the dictionary form, mimicing the simulated data, in order to use the analysis functions as is. Note that this is not necessary, as any custom processing can be used to analyze the data, as long as its final form is what the trained density estimator expects. Although in practice it's recommended to use the same or similar analysis functions and settings, as this will result in better matches to the simulations.\n",
    "\n",
    "The convenience function `convert_spike_array_to_dict` creates a dictionary from a list of spike \"times\" and given a sampling rate, resulting in a dictionary with a population `exc_spikes` and spike times in seconds. Then, we can call the analysis function."
   ]
  },
  {
   "cell_type": "code",
   "execution_count": 20,
   "metadata": {},
   "outputs": [
    {
     "name": "stdout",
     "output_type": "stream",
     "text": [
      "Analysis of recording 0 complete.\n",
      "Analysis of recording 1 complete.\n",
      "Analysis of recording 2 complete.\n",
      "Analysis of recording 3 complete.\n",
      "Analysis of recording 4 complete.\n",
      "Analysis of recording 5 complete.\n",
      "Analysis of recording 6 complete.\n",
      "Analysis of recording 7 complete.\n",
      "Analysis of recording 8 complete.\n",
      "Analysis of recording 9 complete.\n"
     ]
    }
   ],
   "source": [
    "#spikes_dict = data_utils.convert_spike_array_to_dict(spikes_in_list, fs, 'exc_spikes') # \n",
    "#spikes_dict['t_end'] = t_end\n",
    "#spikes_dict['inh_spikes'] = {}\n",
    "\n",
    "# Analyze data with the same params_dict as the simulated data. \n",
    "# Note that depending on your own data, some settings may need to be adjusted in params_dict['params_analysis'].\n",
    "\n",
    "params_dict['params_analysis']['analysis_window'] = np.array([0.1, None])\n",
    "\n",
    "spikes_analyzed = []\n",
    "for i in range(len(spike_data)):\n",
    "    analyzed_data = analysis_utils.compute_spike_burst_features({'exc_spikes': spike_data[i], 't_end': 200}, params_dict)\n",
    "    spikes_analyzed.append(analyzed_data)\n",
    "    print(f'Analysis of recording {i} complete.')"
   ]
  },
  {
   "cell_type": "markdown",
   "metadata": {},
   "source": [
    "This particular analysis computes the total population rate by collapsing across all cells / channels (elements in your original list), and calculates a range of statistics based on the detected network bursts, which uses `scipy.signal.find_peaks` with parameters given by settings in `param_dict`.\n",
    "\n",
    "We can plot the real data raster and population rate."
   ]
  },
  {
   "cell_type": "markdown",
   "metadata": {},
   "source": [
    "### Define target observation data and apply preprocessing\n",
    "Element 0 of the output contains a dataframe with all the computed statistics. We further focus on just the ones required by the density estimator for inference.\n",
    "\n",
    "The target observation then has to undergo a few preprocessing steps, in particular, taking the log of the values to be put on the same scale. These transformations are tracked in the posterior network object (`posterior.x_bounds_and_transforms` and `posterior.x_standardizing_func`), and just need to be applied to the dataset.\n",
    "\n",
    "If you want to run this demo on a new dataset, you just need to replace `df_xos` with your own pandas dataframe, where each row must contain, among other features, the necessary burst timing features (names printed below). \n",
    "\n",
    "Alternatively, it can be supplied as a a numpy array (`xo`), where only the last step is necessary (standardizing and converting to torch tensor)."
   ]
  },
  {
   "cell_type": "code",
   "execution_count": 21,
   "metadata": {},
   "outputs": [
    {
     "data": {
      "text/html": [
       "<div>\n",
       "<style scoped>\n",
       "    .dataframe tbody tr th:only-of-type {\n",
       "        vertical-align: middle;\n",
       "    }\n",
       "\n",
       "    .dataframe tbody tr th {\n",
       "        vertical-align: top;\n",
       "    }\n",
       "\n",
       "    .dataframe thead th {\n",
       "        text-align: right;\n",
       "    }\n",
       "</style>\n",
       "<table border=\"1\" class=\"dataframe\">\n",
       "  <thead>\n",
       "    <tr style=\"text-align: right;\">\n",
       "      <th></th>\n",
       "      <th>burst_interval_mean</th>\n",
       "      <th>burst_interval_cv</th>\n",
       "      <th>burst_width_mean</th>\n",
       "      <th>burst_offset_time_mean</th>\n",
       "    </tr>\n",
       "  </thead>\n",
       "  <tbody>\n",
       "    <tr>\n",
       "      <th>0</th>\n",
       "      <td>4.347568</td>\n",
       "      <td>0.451023</td>\n",
       "      <td>0.363287</td>\n",
       "      <td>0.294973</td>\n",
       "    </tr>\n",
       "  </tbody>\n",
       "</table>\n",
       "</div>"
      ],
      "text/plain": [
       "   burst_interval_mean  burst_interval_cv  burst_width_mean  \\\n",
       "0             4.347568           0.451023          0.363287   \n",
       "\n",
       "   burst_offset_time_mean  \n",
       "0                0.294973  "
      ]
     },
     "execution_count": 21,
     "metadata": {},
     "output_type": "execute_result"
    }
   ],
   "source": [
    "df_xos = spikes_analyzed[0][0]\n",
    "df_xos[cols_features]"
   ]
  },
  {
   "cell_type": "markdown",
   "metadata": {},
   "source": [
    "### Adjust some of the recording's burst detection function after some inspection of each one of the samples average pop rate"
   ]
  },
  {
   "cell_type": "code",
   "execution_count": null,
   "metadata": {},
   "outputs": [
    {
     "name": "stdout",
     "output_type": "stream",
     "text": [
      "(   isi_numspks_mu  isi_mean_mu  isi_std_mu  isi_25q_mu  isi_50q_mu  \\\n",
      "0     2160.747308     1.291643    1.921205    0.083648    0.579743   \n",
      "\n",
      "   isi_75q_mu  isi_cv_mu  isi_numspks_sigma  isi_mean_sigma  isi_std_sigma  \\\n",
      "0    1.751799   2.583861         2106.92972        2.522093       3.037912   \n",
      "\n",
      "   ...  burst_offset_time_mean  burst_offset_time_std  burst_corr_mean  \\\n",
      "0  ...                1.623407               0.570497         0.850697   \n",
      "\n",
      "   burst_corr_std  burst_corr_interval2nextpeak  burst_corr_interval2prevpeak  \\\n",
      "0        0.279078                      0.489011                      0.027473   \n",
      "\n",
      "   burst_numsubpeaks_mean  burst_numsubpeaks_std  burst_mean_fr_mean  \\\n",
      "0                     0.0                    0.0            0.236009   \n",
      "\n",
      "   burst_mean_fr_std  \n",
      "0           0.041336  \n",
      "\n",
      "[1 rows x 34 columns], {'t_ds': array([0.00000e+00, 1.00000e-03, 2.00000e-03, ..., 1.99997e+02,\n",
      "       1.99998e+02, 1.99999e+02]), 'exc_rate': array([0.83969356, 0.98546057, 1.11944122, ..., 1.81729832, 1.67340561,\n",
      "       1.49233196]), 'avgpop_rate': array([0.83969356, 0.98546057, 1.11944122, ..., 1.81729832, 1.67340561,\n",
      "       1.49233196])}, {'burst_times': array([  8.037,  18.058,  34.862,  50.011,  61.415,  73.26 ,  88.965,\n",
      "       101.993, 114.763, 128.506, 139.748, 157.639, 169.889, 185.413]), 'burst_heights': array([146.13563944, 142.3381972 , 149.01539426, 146.90327575,\n",
      "       140.94304236, 145.04367555, 148.38094728, 147.64577383,\n",
      "       140.71969815, 146.89482799, 262.51538133, 150.51236125,\n",
      "       146.0401558 , 145.98236689]), 'burst_kernels': [array([2.86695119, 2.77695833, 2.64951629, ..., 6.51222096, 6.41433197,\n",
      "       6.3091578 ]), array([1.8279322 , 1.92404377, 2.01065188, ..., 2.14534311, 2.17534272,\n",
      "       2.2148262 ]), array([ 1.22068282,  1.19249715,  1.16999217, ..., 15.31943202,\n",
      "       15.09634132, 14.90596288]), array([2.24024715, 2.16055944, 2.079326  , ..., 6.22489795, 6.14899707,\n",
      "       6.08817745]), array([1.94228332, 1.84956214, 1.76732629, ..., 1.51987767, 1.60407643,\n",
      "       1.72013218]), array([1.80984877, 1.76198374, 1.72924429, ..., 4.37792438, 4.35951296,\n",
      "       4.34088903]), array([2.66117019, 2.62768034, 2.58252992, ..., 6.23031446, 6.17811908,\n",
      "       6.16880408]), array([0.85858149, 0.82734459, 0.81987533, ..., 2.79369351, 2.70341364,\n",
      "       2.59491217]), array([2.11019169, 2.11455411, 2.13270845, ..., 1.51195512, 1.49564658,\n",
      "       1.47214866]), array([2.53817914, 2.52465369, 2.48792574, ..., 3.2129459 , 3.0959451 ,\n",
      "       2.97807969]), array([71.48106045, 70.58088219, 69.69430158, ...,  1.24395429,\n",
      "        1.16389484,  1.109584  ]), array([1.25256513, 1.17983779, 1.12558062, ..., 9.33283036, 9.19777103,\n",
      "       9.07711857]), array([1.66949278, 1.6514889 , 1.61166303, ..., 3.38657846, 3.34080234,\n",
      "       3.25721799]), array([0.88144213, 0.83873407, 0.79705392, ..., 5.57342121, 5.579802  ,\n",
      "       5.6358822 ])], 'burst_widths': array([2.1957159 , 1.79424998, 1.20796083, 1.58449623, 1.92257964,\n",
      "       1.15350792, 1.17922855, 1.9693923 , 2.11480376, 1.90554972,\n",
      "       0.1566038 , 2.10784257, 2.50978315, 2.07484621]), 'burst_width_heights': array([ 7.66223415,  7.49319679,  7.87058781,  7.71461853,  7.34624817,\n",
      "        7.61603045,  7.83593339,  7.72920029,  7.41275232,  7.75889492,\n",
      "       13.59087739,  7.86509402,  7.63822187,  7.63593321]), 'burst_width_ips': array([[  7.94988804,  10.14560394],\n",
      "       [ 17.95767765,  19.75192763],\n",
      "       [ 34.79333714,  36.00129797],\n",
      "       [ 49.92430785,  51.50880408],\n",
      "       [ 61.31558234,  63.23816198],\n",
      "       [ 73.16116349,  74.31467141],\n",
      "       [ 88.88744324,  90.06667179],\n",
      "       [101.89347605, 103.86286835],\n",
      "       [114.68475349, 116.79955725],\n",
      "       [128.42030208, 130.3258518 ],\n",
      "       [139.72683959, 139.88344339],\n",
      "       [157.55459885, 159.66244142],\n",
      "       [169.80791869, 172.31770184],\n",
      "       [185.33284678, 187.40769298]]), 'subpeak_times': [array([8.037]), array([18.058]), array([34.862]), array([50.011]), array([61.415]), array([73.26]), array([88.965]), array([101.993]), array([114.763]), array([128.506]), array([139.748]), array([157.639]), array([169.889]), array([185.413])], 'burst_kernels_refined': [array([7.2688583 , 7.7118283 , 8.16109633, ..., 8.38345471, 8.19720979,\n",
      "       7.99125007]), array([7.34328308, 7.56450866, 7.80410384, ..., 8.60712176, 8.29782766,\n",
      "       7.99347779]), array([7.73108929, 8.14485819, 8.6297675 , ..., 8.93335714, 8.59120376,\n",
      "       8.2621202 ]), array([7.6161587 , 7.93599094, 8.25560017, ..., 8.869915  , 8.53538713,\n",
      "       8.21333132]), array([7.10665483, 7.51808574, 7.96054002, ..., 7.90460959, 7.72954526,\n",
      "       7.54533653]), array([7.60173864, 7.68915435, 7.78633178, ..., 8.25542361, 8.00336774,\n",
      "       7.80024647]), array([7.53758429, 8.2106969 , 8.9486016 , ..., 8.43237561, 8.23311168,\n",
      "       8.05264979]), array([7.696817  , 7.76484235, 7.8655765 , ..., 8.49855381, 8.36755887,\n",
      "       8.1888577 ]), array([7.20664404, 7.48018129, 7.78791912, ..., 7.83891972, 7.70840246,\n",
      "       7.58338353]), array([7.59622978, 8.13470903, 8.69473078, ..., 8.54882281, 8.39457538,\n",
      "       8.19387816]), array([ 13.40974565,  13.625484  ,  13.99073566,  14.52221897,\n",
      "        15.29022096,  16.40531714,  18.17928376,  21.03359898,\n",
      "        25.29063547,  31.50790602,  40.33673443,  52.28699663,\n",
      "        67.78031393,  86.97198034, 109.63126544, 135.06686253,\n",
      "       162.10497798, 189.16245929, 214.37724879, 235.83299379,\n",
      "       251.79128188, 260.92968066, 262.51538143, 256.50102308,\n",
      "       243.51736064, 224.76254419, 201.83739293, 176.52407643,\n",
      "       150.57832766, 125.53802252, 102.59852217,  82.54476389,\n",
      "        65.75842068,  52.26857859,  41.82350539,  34.02483072,\n",
      "        28.3446615 ,  24.29349768,  21.50128056,  19.61696016,\n",
      "        18.37501786,  17.49795676,  16.88287878,  16.57583602,\n",
      "        16.43491919,  16.3962232 ,  16.48013019,  16.63469641,\n",
      "        16.83196657,  17.04063148,  17.23737007,  17.4042146 ,\n",
      "        17.52299403,  17.59229129,  17.61865335,  17.61818441,\n",
      "        17.61309899,  17.63140029,  17.69427945,  17.82001617,\n",
      "        18.01439173,  18.26925418,  18.56933433,  18.88114451,\n",
      "        19.17306437,  19.41432413,  19.57055924,  19.62080922,\n",
      "        19.5532706 ,  19.36440948,  19.0628719 ,  18.66767985,\n",
      "        18.20342588,  17.70040854,  17.19533556,  16.72545119,\n",
      "        16.33014649,  16.04515219,  15.89323482,  15.88525441,\n",
      "        16.02135344,  16.28605681,  16.64664883,  17.06447859,\n",
      "        17.4998348 ,  17.9134057 ,  18.27231098,  18.56010783,\n",
      "        18.77109495,  18.90540102,  18.98090689,  19.01474218,\n",
      "        19.02270762,  19.02560771,  19.03191947,  19.04878748,\n",
      "        19.08037974,  19.12698264,  19.19088715,  19.26887952,\n",
      "        19.36245349,  19.4724789 ,  19.59374588,  19.72339999,\n",
      "        19.85021349,  19.95984753,  20.04143256,  20.08013399,\n",
      "        20.06638804,  19.99486134,  19.86422145,  19.67927233,\n",
      "        19.44593814,  19.17658463,  18.88438647,  18.58063381,\n",
      "        18.27994413,  17.99598654,  17.74081833,  17.52363851,\n",
      "        17.35144298,  17.23155403,  17.16333233,  17.14235134,\n",
      "        17.16443502,  17.21673263,  17.28677385,  17.36246402,\n",
      "        17.42893566,  17.47748784,  17.49982828,  17.48870608,\n",
      "        17.4423364 ,  17.36220902,  17.24970287,  17.10419842,\n",
      "        16.92795522,  16.72385157,  16.49214635,  16.23550317,\n",
      "        15.95476609,  15.651865  ,  15.33640941,  15.01816886,\n",
      "        14.70869427,  14.42111437,  14.16947714,  13.96691751,\n",
      "        13.8202067 ,  13.73048046,  13.69145755,  13.69130697,\n",
      "        13.71435949,  13.74333191,  13.76224903,  13.75714173,\n",
      "        13.71773067]), array([7.59012805, 8.04928388, 8.54004905, ..., 8.46905485, 8.27779364,\n",
      "       8.10009569]), array([7.3491888 , 7.66380366, 8.01617598, ..., 8.67538076, 8.35137428,\n",
      "       8.05471424]), array([7.30978818, 7.69494788, 8.14050206, ..., 8.65581414, 8.33686103,\n",
      "       8.04841575])], 'burst_mean_fr': array([32.05879284, 32.8117601 , 45.20993054, 37.62859953, 32.27570701,\n",
      "       43.33483578, 45.11846183, 32.51638556, 30.92159271, 33.81036467,\n",
      "       39.16799918, 33.83148247, 28.46283332, 32.67653396])})\n"
     ]
    },
    {
     "data": {
      "text/plain": [
       "[<matplotlib.lines.Line2D at 0x1537e1a8d510>]"
      ]
     },
     "execution_count": 38,
     "metadata": {},
     "output_type": "execute_result"
    },
    {
     "data": {
      "image/png": "[encoded data removed]",
      "text/plain": [
       "<Figure size 640x480 with 1 Axes>"
      ]
     },
     "metadata": {},
     "output_type": "display_data"
    }
   ],
   "source": [
    "params_dict_5 = params_dict.copy()\n",
    "params_dict_5['params_analysis']['min_burst_height_ratio'] = 0.5\n",
    "spikes_analyzed[5] = analysis_utils.compute_spike_burst_features({'exc_spikes': spike_data[5], 't_end': 200}, params_dict_5)\n",
    "plt.plot(spikes_analyzed[5][1]['avgpop_rate'])"
   ]
  },
  {
   "cell_type": "code",
   "execution_count": null,
   "metadata": {},
   "outputs": [
    {
     "name": "stdout",
     "output_type": "stream",
     "text": [
      "(   isi_numspks_mu  isi_mean_mu  isi_std_mu  isi_25q_mu  isi_50q_mu  \\\n",
      "0     1425.005831     1.653439    2.458339    0.204922       0.811   \n",
      "\n",
      "   isi_75q_mu  isi_cv_mu  isi_numspks_sigma  isi_mean_sigma  isi_std_sigma  \\\n",
      "0    2.055052   2.199072         1226.99753        3.152054       3.626168   \n",
      "\n",
      "   ...  burst_offset_time_mean  burst_offset_time_std  burst_corr_mean  \\\n",
      "0  ...                1.467279               0.465435         0.778041   \n",
      "\n",
      "   burst_corr_std  burst_corr_interval2nextpeak  burst_corr_interval2prevpeak  \\\n",
      "0         0.26363                     -0.235165                       0.27033   \n",
      "\n",
      "   burst_numsubpeaks_mean  burst_numsubpeaks_std  burst_mean_fr_mean  \\\n",
      "0                0.133333               0.339935            0.385382   \n",
      "\n",
      "   burst_mean_fr_std  \n",
      "0           0.062275  \n",
      "\n",
      "[1 rows x 34 columns], {'t_ds': array([0.00000e+00, 1.00000e-03, 2.00000e-03, ..., 1.99997e+02,\n",
      "       1.99998e+02, 1.99999e+02]), 'exc_rate': array([0.5930975 , 0.71816866, 0.84530303, ..., 1.59759446, 1.46523135,\n",
      "       1.30743862]), 'avgpop_rate': array([0.5930975 , 0.71816866, 0.84530303, ..., 1.59759446, 1.46523135,\n",
      "       1.30743862])}, {'burst_times': array([  8.149,  20.08 ,  35.675,  49.814,  66.222,  82.17 ,  97.465,\n",
      "       111.563, 127.336, 131.666, 144.074, 159.522, 171.186, 179.844,\n",
      "       196.563]), 'burst_heights': array([ 22.65276645,  46.66151003,  31.52770969,  29.43655259,\n",
      "        46.23423952,  43.48541191,  38.02873528,  38.91091674,\n",
      "        36.7685943 , 129.43151597,  46.79600059,  33.29299692,\n",
      "        20.47774298,  35.28830891,  26.8331807 ]), 'burst_kernels': [array([8.00315885, 7.80412654, 7.60137649, ..., 1.60563865, 1.6036306 ,\n",
      "       1.60896465]), array([7.48489618, 7.47041582, 7.45108715, ..., 1.0010592 , 0.95684589,\n",
      "       0.9303444 ]), array([4.65700781, 4.75512773, 4.83177494, ..., 1.00941099, 0.99291937,\n",
      "       0.97453786]), array([4.67364887, 4.61131395, 4.56086343, ..., 1.36793512, 1.42177039,\n",
      "       1.48087122]), array([4.3206875 , 4.26117601, 4.23521931, ..., 1.26807673, 1.2468902 ,\n",
      "       1.21910163]), array([3.61023383, 3.53509046, 3.49019984, ..., 1.38748861, 1.43544611,\n",
      "       1.47296014]), array([3.85146939, 3.78299332, 3.70184521, ..., 1.39487669, 1.45271878,\n",
      "       1.51767952]), array([3.66915085, 3.63805342, 3.61134213, ..., 0.58276557, 0.56543284,\n",
      "       0.55827073]), array([3.54888509, 3.61229441, 3.6923617 , ..., 1.59048592, 1.72155241,\n",
      "       1.83900161]), array([1.56372198, 1.52773945, 1.51073673, ..., 1.29657441, 1.24630401,\n",
      "       1.20485843]), array([5.88288843, 5.89953096, 5.93399163, ..., 1.15628516, 1.1068254 ,\n",
      "       1.0439836 ]), array([4.40385236, 4.64124871, 4.8660994 , ..., 1.03721857, 1.08144737,\n",
      "       1.11686519]), array([4.57365951, 4.66513528, 4.73286931, ..., 2.51278464, 2.48270033,\n",
      "       2.45230398]), array([6.82605006, 6.84399722, 6.88078374, ..., 1.48079984, 1.57989805,\n",
      "       1.69078715]), array([5.2772981 , 5.03325119, 4.78549816, ..., 0.87646935, 0.87891089,\n",
      "       0.90221812])], 'burst_widths': array([5.50048818, 2.97758429, 3.17395534, 4.97835724, 2.2712775 ,\n",
      "       2.58372178, 2.96845958, 2.83851531, 3.35347964, 0.02748149,\n",
      "       2.58171458, 4.56737477, 5.20668357, 3.55146011, 5.32912555]), 'burst_width_heights': array([1.8020457 , 3.00248287, 2.10282003, 1.99826218, 3.15735727,\n",
      "       2.6888658 , 2.41699206, 2.32627646, 2.44421828, 6.98189025,\n",
      "       3.09215846, 2.24065863, 1.95542081, 2.69594911, 2.01782579]), 'burst_width_ips': array([[  4.47887091,   9.97935908],\n",
      "       [ 18.31831003,  21.29589432],\n",
      "       [ 34.20475596,  37.3787113 ],\n",
      "       [ 46.58612531,  51.56448255],\n",
      "       [ 65.10947725,  67.38075475],\n",
      "       [ 81.24504009,  83.82876187],\n",
      "       [ 96.17786621,  99.14632579],\n",
      "       [110.40157848, 113.24009379],\n",
      "       [125.79740852, 129.15088816],\n",
      "       [131.65216631, 131.6796478 ],\n",
      "       [142.64800929, 145.22972388],\n",
      "       [156.52744405, 161.09481882],\n",
      "       [167.93016858, 173.13685215],\n",
      "       [177.46551532, 181.01697544],\n",
      "       [192.88577622, 198.21490177]]), 'subpeak_times': [array([7.765, 8.149]), array([20.08]), array([35.675]), array([49.814]), array([66.222]), array([82.17]), array([97.465]), array([111.563, 112.044]), array([127.336]), array([131.666]), array([144.074]), array([159.522]), array([171.186]), array([179.844]), array([196.563])], 'burst_kernels_refined': [array([1.72382691, 1.81363978, 1.94698952, ..., 2.2029548 , 2.05944895,\n",
      "       1.93554989]), array([2.97393049, 3.06602618, 3.16568017, ..., 3.74529694, 3.5814501 ,\n",
      "       3.39119636]), array([1.98034906, 2.14235557, 2.32435048, ..., 2.43350561, 2.34597365,\n",
      "       2.25596691]), array([1.98566846, 2.08617204, 2.17022606, ..., 2.71841722, 2.54962209,\n",
      "       2.34276259]), array([3.09332401, 3.22749427, 3.40947859, ..., 3.25966091, 3.25046897,\n",
      "       3.22711984]), array([2.68491579, 2.78343645, 2.92790753, ..., 2.86945887, 2.82212976,\n",
      "       2.77447245]), array([2.36190825, 2.42550001, 2.50143683, ..., 2.73458456, 2.62892247,\n",
      "       2.53141061]), array([2.28291784, 2.35787057, 2.45131265, ..., 2.79439383, 2.64331994,\n",
      "       2.48815724]), array([2.38890068, 2.52431168, 2.64871474, ..., 2.89755766, 2.76426789,\n",
      "       2.63434861]), array([  6.53600331,   9.21706177,  13.06148278,  18.36473842,\n",
      "        25.37547649,  34.23853331,  44.9507857 ,  57.29497709,\n",
      "        70.82217336,  84.83763084,  98.45163895, 110.65249295,\n",
      "       120.42677737, 126.89433882, 129.43151595, 127.77389128,\n",
      "       122.05986111, 112.81329102, 100.8637225 ,  87.23053335,\n",
      "        72.96952896,  59.04683555,  46.23636057,  35.05577116,\n",
      "        25.77051097,  18.40773412,  12.83481394]), array([3.09163155, 3.14833456, 3.2167515 , ..., 3.53882505, 3.37913194,\n",
      "       3.24608811]), array([2.22320571, 2.26250925, 2.33677807, ..., 2.73329533, 2.58487409,\n",
      "       2.44605273]), array([1.95188135, 1.97287799, 1.98976902, ..., 2.23385715, 2.16627189,\n",
      "       2.09144935]), array([2.61021978, 2.7765796 , 2.95143716, ..., 3.16798687, 3.04892611,\n",
      "       2.92387864]), array([1.92559895, 2.04441431, 2.17693609, ..., 2.27408577, 2.21276454,\n",
      "       2.14709791])], 'burst_mean_fr': array([ 7.22163125, 18.67527873, 11.0612877 , 10.00644627, 22.38286062,\n",
      "       18.07727224, 14.22469719, 16.92616855, 13.6275911 , 65.61549932,\n",
      "       20.5843481 ,  9.19253591,  6.91525591, 14.47677622,  8.60132605])})\n",
      "[  8.149  20.08   35.675  49.814  66.222  82.17   97.465 111.563 127.336\n",
      " 131.666 144.074 159.522 171.186 179.844 196.563]\n"
     ]
    },
    {
     "data": {
      "image/png": "[encoded data removed]",
      "text/plain": [
       "<Figure size 640x480 with 1 Axes>"
      ]
     },
     "metadata": {},
     "output_type": "display_data"
    }
   ],
   "source": [
    "params_dict_8 = params_dict.copy()\n",
    "params_dict_8['params_analysis']['min_burst_height_ratio'] = 0.1\n",
    "spikes_analyzed[8] = analysis_utils.compute_spike_burst_features({'exc_spikes': spike_data[8], 't_end': 200}, params_dict_8)\n",
    "plt.plot(spikes_analyzed[8][1]['avgpop_rate'])"
   ]
  },
  {
   "cell_type": "code",
   "execution_count": 52,
   "metadata": {},
   "outputs": [
    {
     "name": "stdout",
     "output_type": "stream",
     "text": [
      "(   isi_numspks_mu  isi_mean_mu  isi_std_mu  isi_25q_mu  isi_50q_mu  \\\n",
      "0     2076.847969     1.153197    1.822138    0.066242    0.451431   \n",
      "\n",
      "   isi_75q_mu  isi_cv_mu  isi_numspks_sigma  isi_mean_sigma  isi_std_sigma  \\\n",
      "0    1.630263   2.755696        1972.531018        2.157649       2.692539   \n",
      "\n",
      "   ...  burst_offset_time_mean  burst_offset_time_std  burst_corr_mean  \\\n",
      "0  ...                3.219225               1.849129          0.68853   \n",
      "\n",
      "   burst_corr_std  burst_corr_interval2nextpeak  burst_corr_interval2prevpeak  \\\n",
      "0        0.358185                      -0.13986                     -0.566434   \n",
      "\n",
      "   burst_numsubpeaks_mean  burst_numsubpeaks_std  burst_mean_fr_mean  \\\n",
      "0                     0.0                    0.0            0.304667   \n",
      "\n",
      "   burst_mean_fr_std  \n",
      "0           0.089854  \n",
      "\n",
      "[1 rows x 34 columns], {'t_ds': array([0.00000e+00, 1.00000e-03, 2.00000e-03, ..., 1.99997e+02,\n",
      "       1.99998e+02, 1.99999e+02]), 'exc_rate': array([0.52649637, 0.63852587, 0.75612977, ..., 1.11092156, 1.01506625,\n",
      "       0.90016317]), 'avgpop_rate': array([0.52649637, 0.63852587, 0.75612977, ..., 1.11092156, 1.01506625,\n",
      "       0.90016317])}, {'burst_times': array([ 21.128,  34.814,  53.915,  70.558,  87.69 , 109.949, 125.904,\n",
      "       145.032, 148.076, 164.31 , 174.038, 184.709, 188.539]), 'burst_heights': array([ 91.805635  ,  82.90684755,  88.26315539,  85.07854655,\n",
      "        83.09153295,  90.89187935,  84.44930759, 108.61731384,\n",
      "        89.86039637,  81.80637641,  97.99122221,  89.74324855,\n",
      "       228.06769201]), 'burst_kernels': [array([ 1.44641768,  1.38383127,  1.32514563, ..., 13.51208505,\n",
      "       13.65193341, 13.779075  ]), array([ 1.24917653,  1.28025485,  1.31146708, ..., 11.61540707,\n",
      "       11.46847412, 11.35370838]), array([ 1.1065938 ,  1.16635161,  1.22927961, ..., 18.45430357,\n",
      "       18.05249528, 17.66590512]), array([ 1.58013879,  1.54047922,  1.49529528, ..., 14.4040579 ,\n",
      "       14.37735223, 14.32306204]), array([ 0.95959212,  0.92705009,  0.92139687, ..., 10.86305161,\n",
      "       10.8943176 , 10.94655727]), array([ 2.09242375,  2.02506612,  1.94058371, ..., 18.83481679,\n",
      "       19.11593438, 19.43054216]), array([2.29119998, 2.34440831, 2.36947393, ..., 9.4191276 , 9.66818448,\n",
      "       9.87645152]), array([ 0.82427859,  0.73402241,  0.64943459, ..., 33.23431351,\n",
      "       34.81919626, 36.4245938 ]), array([ 1.32138417,  1.28602643,  1.24490163, ...,  9.87341529,\n",
      "        9.96612789, 10.02979501]), array([1.96840246, 1.95275044, 1.92127147, ..., 8.18372575, 8.22809415,\n",
      "       8.25908042]), array([0.94842589, 0.94278394, 0.93376061, ..., 0.69730168, 0.65679644,\n",
      "       0.61899753]), array([ 0.94409976,  0.90098416,  0.86410666, ..., 19.03487528,\n",
      "       18.70887378, 18.38300943]), array([19.96781105, 19.79233676, 19.59899395, ...,  0.78492028,\n",
      "        0.78917431,  0.81027588])], 'burst_widths': array([4.62116848, 4.3400942 , 4.42067257, 4.9521776 , 3.79073395,\n",
      "       4.75662318, 3.94408047, 0.02658991, 4.8242837 , 4.52813971,\n",
      "       0.02573783, 2.54698604, 0.0758474 ]), 'burst_width_heights': array([ 5.02680774,  4.49698279,  4.72782283,  4.66372507,  4.44020389,\n",
      "        4.93093378,  4.44502554,  5.89857556,  5.01079142,  4.45072399,\n",
      "        5.25996628, 11.50827206, 11.71029792]), 'burst_width_ips': array([[ 21.04329278,  25.66446126],\n",
      "       [ 34.70178197,  39.04187617],\n",
      "       [ 53.82447881,  58.24515138],\n",
      "       [ 70.45308784,  75.40526544],\n",
      "       [ 87.60358705,  91.394321  ],\n",
      "       [109.86312232, 114.6197455 ],\n",
      "       [125.81829163, 129.76237209],\n",
      "       [145.01840654, 145.04499644],\n",
      "       [147.99622699, 152.82051069],\n",
      "       [164.19984477, 168.72798448],\n",
      "       [174.02515947, 174.05089729],\n",
      "       [184.61538246, 187.1623685 ],\n",
      "       [188.49612631, 188.57197371]]), 'subpeak_times': [array([21.128]), array([34.814]), array([53.915]), array([70.558]), array([87.69]), array([109.949]), array([125.904]), array([145.032]), array([148.076]), array([164.31]), array([174.038]), array([184.709]), array([188.539])], 'burst_kernels_refined': [array([4.94423927, 5.22625687, 5.52476737, ..., 5.51344515, 5.40891769,\n",
      "       5.26856543]), array([4.39217822, 4.52620388, 4.67632213, ..., 5.46924952, 5.27460529,\n",
      "       5.03522764]), array([4.64636004, 4.81649773, 4.98445176, ..., 5.33627659, 5.11542254,\n",
      "       4.91607591]), array([4.63212428, 4.99189448, 5.36670994, ..., 5.20650316, 5.03619626,\n",
      "       4.86512812]), array([4.31513387, 4.52818377, 4.71812053, ..., 4.88348794, 4.71237116,\n",
      "       4.5721253 ]), array([4.89936403, 5.15744882, 5.45359561, ..., 5.57075578, 5.37322025,\n",
      "       5.18392044]), array([4.33982215, 4.70056682, 5.10858001, ..., 4.69397594, 4.59350588,\n",
      "       4.51047301]), array([  5.04809379,   7.14010499,  10.19273777,  14.47883644,\n",
      "        20.24474767,  27.67017563,  36.7888398 ,  47.44656732,\n",
      "        59.23968396,  71.52067137,  83.42839024,  93.97878349,\n",
      "       102.19465792, 107.25183479, 108.61731375, 106.13931701,\n",
      "       100.07841687,  91.05613967,  79.95682324,  67.77689847,\n",
      "        55.48359608,  43.89290297,  33.58608823,  24.89812288,\n",
      "        17.92224891,  12.57644639]), array([4.93869081, 5.25632765, 5.59441996, ..., 5.39312693, 5.30060597,\n",
      "       5.19642116]), array([4.20850666, 4.49523281, 4.79028359, ..., 5.11034601, 4.9270371 ,\n",
      "       4.74888494]), array([ 4.92622986,  7.01906577, 10.1431748 , 14.57622848, 20.55855088,\n",
      "       28.21397598, 37.49887856, 48.12525116, 59.55014315, 70.98236913,\n",
      "       81.46635964, 90.00768782, 95.72166969, 97.99122205, 96.56991298,\n",
      "       91.62917607, 83.72108107, 73.68148708, 62.47891938, 51.06854741,\n",
      "       40.26033401, 30.63602628, 22.53428106, 16.04941933, 11.1085221 ]), array([11.2008524 , 12.00465249, 12.88094612, ..., 12.39999839,\n",
      "       12.12318751, 11.84956534]), array([ 11.68888483,  11.85841725,  11.97654349,  12.03918632,\n",
      "        12.04864652,  12.01528014,  11.9577017 ,  11.89450829,\n",
      "        11.84663845,  11.83207076,  11.86610196,  11.96584291,\n",
      "        12.13222892,  12.37270029,  12.68663911,  13.06850728,\n",
      "        13.51573611,  14.01101309,  14.55563055,  15.12235888,\n",
      "        15.73164709,  16.38960293,  17.05259953,  17.85698358,\n",
      "        18.85319796,  19.99985429,  21.51364748,  23.69284201,\n",
      "        26.78015498,  31.08885544,  37.02282573,  45.0196859 ,\n",
      "        55.48226984,  68.68284887,  84.69479355, 103.31729089,\n",
      "       124.01411111, 145.90352707, 167.78792064, 188.25024121,\n",
      "       205.78458101, 218.96640882, 226.64116895, 228.067692  ,\n",
      "       223.04143716, 211.9284824 , 195.62637564, 175.45968861,\n",
      "       152.98176976, 129.80475375, 107.38995523,  86.90235299,\n",
      "        69.13315367,  54.45868352,  42.92043246,  34.23823189,\n",
      "        28.01726802,  23.78310755,  20.95081279,  19.17823636,\n",
      "        18.17524541,  17.54424011,  17.09708467,  16.80713539,\n",
      "        16.6158463 ,  16.4494234 ,  16.25774934,  16.01351744,\n",
      "        15.71163355,  15.34293669,  14.90177181,  14.39498767,\n",
      "        13.8365346 ,  13.25329488,  12.67720959])], 'burst_mean_fr': array([23.62255351, 22.03173921, 23.09512784, 20.88443912, 24.1363741 ,\n",
      "       22.53636957, 23.39063845, 54.94647845, 22.39358119, 21.83157407,\n",
      "       49.86074055, 30.55994453, 55.59923654])})\n",
      "[ 21.128  34.814  53.915  70.558  87.69  109.949 125.904 145.032 148.076\n",
      " 164.31  174.038 184.709 188.539]\n"
     ]
    },
    {
     "data": {
      "image/png": "[encoded data removed]",
      "text/plain": [
       "<Figure size 640x480 with 1 Axes>"
      ]
     },
     "metadata": {},
     "output_type": "display_data"
    }
   ],
   "source": [
    "params_dict_9 = params_dict.copy()\n",
    "params_dict_9['params_analysis']['min_burst_height_ratio'] = 0.2\n",
    "spikes_analyzed[9] = analysis_utils.compute_spike_burst_features({'exc_spikes': spike_data[9], 't_end': 200}, params_dict_9)\n",
    "plt.plot(spikes_analyzed[9][1]['avgpop_rate'])"
   ]
  },
  {
   "cell_type": "code",
   "execution_count": 65,
   "metadata": {},
   "outputs": [
    {
     "name": "stdout",
     "output_type": "stream",
     "text": [
      "Processed target observation has shape torch.Size([1, 4]): tensor([[-2.3771,  1.9649, -1.0030, -0.6864]])\n",
      "Processed target observation has shape torch.Size([1, 4]): tensor([[-2.0727,  1.8041, -0.6283, -0.2747]])\n",
      "Processed target observation has shape torch.Size([1, 4]): tensor([[-0.7919,  1.8894,  0.7599,  1.2310]])\n",
      "Processed target observation has shape torch.Size([1, 4]): tensor([[-0.6697,  1.7986,  0.9597,  1.4431]])\n",
      "Processed target observation has shape torch.Size([1, 4]): tensor([[-0.3300,  1.6856,  0.5726,  1.0477]])\n",
      "Processed target observation has shape torch.Size([1, 4]): tensor([[-1.0625,  1.3540,  0.2117,  0.6631]])\n",
      "Processed target observation has shape torch.Size([1, 4]): tensor([[-1.1897,  1.2630,  0.1031,  0.4596]])\n",
      "Processed target observation has shape torch.Size([1, 4]): tensor([[-1.0217,  1.6368,  0.1235,  0.5512]])\n",
      "Processed target observation has shape torch.Size([1, 4]): tensor([[-1.0783,  1.5963,  0.7676,  0.5831]])\n",
      "Processed target observation has shape torch.Size([1, 4]): tensor([[-1.0370,  1.9109,  0.7294,  1.2048]])\n"
     ]
    }
   ],
   "source": [
    "xo_tensor = []\n",
    "xo = []\n",
    "for i in range(len(spikes_analyzed)):\n",
    "    df_xos = spikes_analyzed[i][0]\n",
    "    df_xos_preproc, _, _, _ = dist_utils.preproc_dataframe(\n",
    "        df_xos,\n",
    "        posterior.x_bounds_and_transforms,\n",
    "        drop_nans=False,\n",
    "        replace_infs=True,\n",
    "    )\n",
    "    xo_i = df_xos_preproc.loc[0][cols_features].values\n",
    "    xo.append(xo_i)\n",
    "    xo_tensor_i = posterior.x_standardizing_func(Tensor(xo_i[None, :]))\n",
    "    xo_tensor.append(xo_tensor_i)\n",
    "    print(f\"Processed target observation has shape {xo_tensor_i.shape}: {xo_tensor_i}\")"
   ]
  },
  {
   "cell_type": "markdown",
   "metadata": {},
   "source": [
    "---\n",
    "# Inference\n",
    "Same as last time, this is where the magic happens: we provide the (preprocessed) target observation and draw samples of model configurations that are likely to reproduce this target.\n",
    "\n",
    "Under the hood, the target is supplied as the conditioner to the conditional Normalizing Flow, which then approximates the posterior distribution given that observation, i.e., $p(parameters|target)$.\n",
    "\n",
    "Also, we apply the \"oversampling\" trick here: to acquire `n_samples=5` samples in the end, we first sample by a factor of `oversample_factor=200` more (so 1000 total), and then select the top 5 samples with the highest log-likelihood returned by the Normalizing Flow. This is a fast and cheap operation and encourages samples to be in high-density regions, which empirically helps with finding better data-consistent samples.\n",
    "\n",
    "For real data, we will be taking more final samples (20 here), since there is typically a 5-25% yield of models that actually result in good matches after simulation."
   ]
  },
  {
   "cell_type": "code",
   "execution_count": 54,
   "metadata": {},
   "outputs": [
    {
     "data": {
      "application/vnd.jupyter.widget-view+json": {
       "model_id": "f7f03602b95a47de80b5b7b9431765ab",
       "version_major": 2,
       "version_minor": 0
      },
      "text/plain": [
       "Drawing 2000 posterior samples:   0%|          | 0/2000 [00:00<?, ?it/s]"
      ]
     },
     "metadata": {},
     "output_type": "display_data"
    },
    {
     "name": "stderr",
     "output_type": "stream",
     "text": [
      "WARNING    /nfs/scistore12/gaspgrp/tzuskino/automind/automind/inference/inferer.py:129: FutureWarning: The behavior of DataFrame concatenation with empty or all-NA entries is deprecated. In a future version, this will no longer exclude empty or all-NA columns when determining the result dtypes. To retain the old behavior, exclude the relevant entries before the concat operation.\n",
      "  return pd.concat((df_to_append_to, df_cur), axis=0)\n",
      " [py.warnings]\n"
     ]
    },
    {
     "data": {
      "application/vnd.jupyter.widget-view+json": {
       "model_id": "9456cf07c528484db615610795d7065e",
       "version_major": 2,
       "version_minor": 0
      },
      "text/plain": [
       "Drawing 2000 posterior samples:   0%|          | 0/2000 [00:00<?, ?it/s]"
      ]
     },
     "metadata": {},
     "output_type": "display_data"
    },
    {
     "name": "stderr",
     "output_type": "stream",
     "text": [
      "WARNING    /nfs/scistore12/gaspgrp/tzuskino/automind/automind/inference/inferer.py:129: FutureWarning: The behavior of DataFrame concatenation with empty or all-NA entries is deprecated. In a future version, this will no longer exclude empty or all-NA columns when determining the result dtypes. To retain the old behavior, exclude the relevant entries before the concat operation.\n",
      "  return pd.concat((df_to_append_to, df_cur), axis=0)\n",
      " [py.warnings]\n"
     ]
    },
    {
     "data": {
      "application/vnd.jupyter.widget-view+json": {
       "model_id": "8e3ab89f563b4f248bd4844fc53ed661",
       "version_major": 2,
       "version_minor": 0
      },
      "text/plain": [
       "Drawing 2000 posterior samples:   0%|          | 0/2000 [00:00<?, ?it/s]"
      ]
     },
     "metadata": {},
     "output_type": "display_data"
    },
    {
     "name": "stderr",
     "output_type": "stream",
     "text": [
      "WARNING    /nfs/scistore12/gaspgrp/tzuskino/automind/automind/inference/inferer.py:129: FutureWarning: The behavior of DataFrame concatenation with empty or all-NA entries is deprecated. In a future version, this will no longer exclude empty or all-NA columns when determining the result dtypes. To retain the old behavior, exclude the relevant entries before the concat operation.\n",
      "  return pd.concat((df_to_append_to, df_cur), axis=0)\n",
      " [py.warnings]\n"
     ]
    },
    {
     "data": {
      "application/vnd.jupyter.widget-view+json": {
       "model_id": "f3995e7c49a64d48bfa9d9d610a30baa",
       "version_major": 2,
       "version_minor": 0
      },
      "text/plain": [
       "Drawing 2000 posterior samples:   0%|          | 0/2000 [00:00<?, ?it/s]"
      ]
     },
     "metadata": {},
     "output_type": "display_data"
    },
    {
     "name": "stderr",
     "output_type": "stream",
     "text": [
      "WARNING    /nfs/scistore12/gaspgrp/tzuskino/automind/automind/inference/inferer.py:129: FutureWarning: The behavior of DataFrame concatenation with empty or all-NA entries is deprecated. In a future version, this will no longer exclude empty or all-NA columns when determining the result dtypes. To retain the old behavior, exclude the relevant entries before the concat operation.\n",
      "  return pd.concat((df_to_append_to, df_cur), axis=0)\n",
      " [py.warnings]\n"
     ]
    },
    {
     "data": {
      "application/vnd.jupyter.widget-view+json": {
       "model_id": "8eafc2a3e30e4abd84b8f32edeb9682a",
       "version_major": 2,
       "version_minor": 0
      },
      "text/plain": [
       "Drawing 2000 posterior samples:   0%|          | 0/2000 [00:00<?, ?it/s]"
      ]
     },
     "metadata": {},
     "output_type": "display_data"
    },
    {
     "name": "stderr",
     "output_type": "stream",
     "text": [
      "WARNING    /nfs/scistore12/gaspgrp/tzuskino/automind/automind/inference/inferer.py:129: FutureWarning: The behavior of DataFrame concatenation with empty or all-NA entries is deprecated. In a future version, this will no longer exclude empty or all-NA columns when determining the result dtypes. To retain the old behavior, exclude the relevant entries before the concat operation.\n",
      "  return pd.concat((df_to_append_to, df_cur), axis=0)\n",
      " [py.warnings]\n"
     ]
    },
    {
     "data": {
      "application/vnd.jupyter.widget-view+json": {
       "model_id": "984da76cab27495caf9374e777b8634b",
       "version_major": 2,
       "version_minor": 0
      },
      "text/plain": [
       "Drawing 2000 posterior samples:   0%|          | 0/2000 [00:00<?, ?it/s]"
      ]
     },
     "metadata": {},
     "output_type": "display_data"
    },
    {
     "name": "stderr",
     "output_type": "stream",
     "text": [
      "WARNING    /nfs/scistore12/gaspgrp/tzuskino/automind/automind/inference/inferer.py:129: FutureWarning: The behavior of DataFrame concatenation with empty or all-NA entries is deprecated. In a future version, this will no longer exclude empty or all-NA columns when determining the result dtypes. To retain the old behavior, exclude the relevant entries before the concat operation.\n",
      "  return pd.concat((df_to_append_to, df_cur), axis=0)\n",
      " [py.warnings]\n"
     ]
    },
    {
     "data": {
      "application/vnd.jupyter.widget-view+json": {
       "model_id": "49e2ba4c2ef74f9ba176c3e736ec9293",
       "version_major": 2,
       "version_minor": 0
      },
      "text/plain": [
       "Drawing 2000 posterior samples:   0%|          | 0/2000 [00:00<?, ?it/s]"
      ]
     },
     "metadata": {},
     "output_type": "display_data"
    },
    {
     "name": "stderr",
     "output_type": "stream",
     "text": [
      "WARNING    /nfs/scistore12/gaspgrp/tzuskino/automind/automind/inference/inferer.py:129: FutureWarning: The behavior of DataFrame concatenation with empty or all-NA entries is deprecated. In a future version, this will no longer exclude empty or all-NA columns when determining the result dtypes. To retain the old behavior, exclude the relevant entries before the concat operation.\n",
      "  return pd.concat((df_to_append_to, df_cur), axis=0)\n",
      " [py.warnings]\n"
     ]
    },
    {
     "data": {
      "application/vnd.jupyter.widget-view+json": {
       "model_id": "0895bbe7b7c34d7fa2783c2b2d62ff62",
       "version_major": 2,
       "version_minor": 0
      },
      "text/plain": [
       "Drawing 2000 posterior samples:   0%|          | 0/2000 [00:00<?, ?it/s]"
      ]
     },
     "metadata": {},
     "output_type": "display_data"
    },
    {
     "name": "stderr",
     "output_type": "stream",
     "text": [
      "WARNING    /nfs/scistore12/gaspgrp/tzuskino/automind/automind/inference/inferer.py:129: FutureWarning: The behavior of DataFrame concatenation with empty or all-NA entries is deprecated. In a future version, this will no longer exclude empty or all-NA columns when determining the result dtypes. To retain the old behavior, exclude the relevant entries before the concat operation.\n",
      "  return pd.concat((df_to_append_to, df_cur), axis=0)\n",
      " [py.warnings]\n"
     ]
    },
    {
     "data": {
      "application/vnd.jupyter.widget-view+json": {
       "model_id": "29a818c898f746e4a2d4a6cf669e4ec2",
       "version_major": 2,
       "version_minor": 0
      },
      "text/plain": [
       "Drawing 2000 posterior samples:   0%|          | 0/2000 [00:00<?, ?it/s]"
      ]
     },
     "metadata": {},
     "output_type": "display_data"
    },
    {
     "name": "stderr",
     "output_type": "stream",
     "text": [
      "WARNING    /nfs/scistore12/gaspgrp/tzuskino/automind/automind/inference/inferer.py:129: FutureWarning: The behavior of DataFrame concatenation with empty or all-NA entries is deprecated. In a future version, this will no longer exclude empty or all-NA columns when determining the result dtypes. To retain the old behavior, exclude the relevant entries before the concat operation.\n",
      "  return pd.concat((df_to_append_to, df_cur), axis=0)\n",
      " [py.warnings]\n"
     ]
    },
    {
     "data": {
      "application/vnd.jupyter.widget-view+json": {
       "model_id": "a1adb2c67571441d9337a316f4bf1f17",
       "version_major": 2,
       "version_minor": 0
      },
      "text/plain": [
       "Drawing 2000 posterior samples:   0%|          | 0/2000 [00:00<?, ?it/s]"
      ]
     },
     "metadata": {},
     "output_type": "display_data"
    },
    {
     "name": "stderr",
     "output_type": "stream",
     "text": [
      "WARNING    /nfs/scistore12/gaspgrp/tzuskino/automind/automind/inference/inferer.py:129: FutureWarning: The behavior of DataFrame concatenation with empty or all-NA entries is deprecated. In a future version, this will no longer exclude empty or all-NA columns when determining the result dtypes. To retain the old behavior, exclude the relevant entries before the concat operation.\n",
      "  return pd.concat((df_to_append_to, df_cur), axis=0)\n",
      " [py.warnings]\n"
     ]
    }
   ],
   "source": [
    "# Set batch and random seeds\n",
    "batch_seed = 20241121\n",
    "data_utils.set_all_seeds(batch_seed)\n",
    "\n",
    "n_samples = 10\n",
    "cfg_sample = {\n",
    "    \"name\": \"demo_NPE\",\n",
    "    \"oversample_factor\": 200,\n",
    "    \"do_sample_map\": False,\n",
    "    \"do_sample_pmean\": False,\n",
    "}\n",
    "df_samples_dict = []\n",
    "for xo_tensor_i in xo_tensor:\n",
    "    df_samples, samples_dict = inferer.sample_from_posterior(\n",
    "        posterior=posterior,  # Posterior network\n",
    "        prior=posterior,  # Need for extracting bounds\n",
    "        num_samples=n_samples,  # Number of samples to draw\n",
    "        x_o=xo_tensor_i,  # Target observation\n",
    "        cfg_algorithm=cfg_sample,  # Sampling options\n",
    "    )\n",
    "    df_samples_dict.append(df_samples)\n",
    "\n",
    "#df_samples"
   ]
  },
  {
   "cell_type": "markdown",
   "metadata": {},
   "source": [
    "---\n",
    "# Simulate discovered configurations\n",
    "Now, we can take those model parameter configurations and simulate them using the clustered AdEx spiking neural network, saving the spike train data and some meta-info.\n",
    "\n",
    "For the purpose of the demo, we run the simulations in the notebook. However, this does take a long time, especially when multiprocessing doesn't place nice with Jupyter, i.e., as reported for Mac and Windows. Practically, this step is done on a compute cluster, and is highly parallelizeable (1 cpu per simulation). "
   ]
  },
  {
   "cell_type": "code",
   "execution_count": 125,
   "metadata": {},
   "outputs": [
    {
     "ename": "ValueError",
     "evalue": "cannot insert params_settings.batch_seed, already exists",
     "output_type": "error",
     "traceback": [
      "\u001b[0;31m---------------------------------------------------------------------------\u001b[0m",
      "\u001b[0;31mValueError\u001b[0m                                Traceback (most recent call last)",
      "\u001b[0;32m/tmp/ipykernel_2553933/2737998501.py\u001b[0m in \u001b[0;36m?\u001b[0;34m()\u001b[0m\n\u001b[1;32m      4\u001b[0m \u001b[0;32mfor\u001b[0m \u001b[0mi\u001b[0m\u001b[0;34m,\u001b[0m \u001b[0mdf_samples\u001b[0m \u001b[0;32min\u001b[0m \u001b[0menumerate\u001b[0m\u001b[0;34m(\u001b[0m\u001b[0mdf_samples_dict\u001b[0m\u001b[0;34m)\u001b[0m\u001b[0;34m:\u001b[0m\u001b[0;34m\u001b[0m\u001b[0;34m\u001b[0m\u001b[0m\n\u001b[1;32m      5\u001b[0m     random_seeds = np.sort(\n\u001b[1;32m      6\u001b[0m         \u001b[0mnp\u001b[0m\u001b[0;34m.\u001b[0m\u001b[0mrandom\u001b[0m\u001b[0;34m.\u001b[0m\u001b[0mchoice\u001b[0m\u001b[0;34m(\u001b[0m\u001b[0ma\u001b[0m\u001b[0;34m=\u001b[0m\u001b[0mint\u001b[0m\u001b[0;34m(\u001b[0m\u001b[0mn_samples\u001b[0m \u001b[0;34m*\u001b[0m \u001b[0;36m100\u001b[0m\u001b[0;34m)\u001b[0m\u001b[0;34m,\u001b[0m \u001b[0msize\u001b[0m\u001b[0;34m=\u001b[0m\u001b[0mn_samples\u001b[0m\u001b[0;34m,\u001b[0m \u001b[0mreplace\u001b[0m\u001b[0;34m=\u001b[0m\u001b[0;32mFalse\u001b[0m\u001b[0;34m)\u001b[0m\u001b[0;34m\u001b[0m\u001b[0;34m\u001b[0m\u001b[0m\n\u001b[1;32m      7\u001b[0m     )\n\u001b[0;32m----> 8\u001b[0;31m     \u001b[0mdf_samples_dict\u001b[0m\u001b[0;34m[\u001b[0m\u001b[0mi\u001b[0m\u001b[0;34m]\u001b[0m\u001b[0;34m.\u001b[0m\u001b[0minsert\u001b[0m\u001b[0;34m(\u001b[0m\u001b[0mloc\u001b[0m\u001b[0;34m=\u001b[0m\u001b[0;36m0\u001b[0m\u001b[0;34m,\u001b[0m \u001b[0mcolumn\u001b[0m\u001b[0;34m=\u001b[0m\u001b[0;34m\"params_settings.batch_seed\"\u001b[0m\u001b[0;34m,\u001b[0m \u001b[0mvalue\u001b[0m\u001b[0;34m=\u001b[0m\u001b[0mbatch_seed\u001b[0m\u001b[0;34m)\u001b[0m\u001b[0;34m\u001b[0m\u001b[0;34m\u001b[0m\u001b[0m\n\u001b[0m\u001b[1;32m      9\u001b[0m     \u001b[0mdf_samples_dict\u001b[0m\u001b[0;34m[\u001b[0m\u001b[0mi\u001b[0m\u001b[0;34m]\u001b[0m\u001b[0;34m.\u001b[0m\u001b[0minsert\u001b[0m\u001b[0;34m(\u001b[0m\u001b[0mloc\u001b[0m\u001b[0;34m=\u001b[0m\u001b[0;36m1\u001b[0m\u001b[0;34m,\u001b[0m \u001b[0mcolumn\u001b[0m\u001b[0;34m=\u001b[0m\u001b[0;34m\"params_settings.random_seed\"\u001b[0m\u001b[0;34m,\u001b[0m \u001b[0mvalue\u001b[0m\u001b[0;34m=\u001b[0m\u001b[0mrandom_seeds\u001b[0m\u001b[0;34m)\u001b[0m\u001b[0;34m\u001b[0m\u001b[0;34m\u001b[0m\u001b[0m\n\u001b[1;32m     10\u001b[0m \u001b[0;34m\u001b[0m\u001b[0m\n\u001b[1;32m     11\u001b[0m     \u001b[0;31m# NOTE: This sets the correct early-stopping condition, i.e., to assess the simulation from 0.1 to 10.1 seconds.\u001b[0m\u001b[0;34m\u001b[0m\u001b[0;34m\u001b[0m\u001b[0m\n",
      "\u001b[0;32m~/miniforge3/envs/automind/lib/python3.11/site-packages/pandas/core/frame.py\u001b[0m in \u001b[0;36m?\u001b[0;34m(self, loc, column, value, allow_duplicates)\u001b[0m\n\u001b[1;32m   5154\u001b[0m                 \u001b[0;34m\"'self.flags.allows_duplicate_labels' is False.\"\u001b[0m\u001b[0;34m\u001b[0m\u001b[0;34m\u001b[0m\u001b[0m\n\u001b[1;32m   5155\u001b[0m             )\n\u001b[1;32m   5156\u001b[0m         \u001b[0;32mif\u001b[0m \u001b[0;32mnot\u001b[0m \u001b[0mallow_duplicates\u001b[0m \u001b[0;32mand\u001b[0m \u001b[0mcolumn\u001b[0m \u001b[0;32min\u001b[0m \u001b[0mself\u001b[0m\u001b[0;34m.\u001b[0m\u001b[0mcolumns\u001b[0m\u001b[0;34m:\u001b[0m\u001b[0;34m\u001b[0m\u001b[0;34m\u001b[0m\u001b[0m\n\u001b[1;32m   5157\u001b[0m             \u001b[0;31m# Should this be a different kind of error??\u001b[0m\u001b[0;34m\u001b[0m\u001b[0;34m\u001b[0m\u001b[0m\n\u001b[0;32m-> 5158\u001b[0;31m             \u001b[0;32mraise\u001b[0m \u001b[0mValueError\u001b[0m\u001b[0;34m(\u001b[0m\u001b[0;34mf\"cannot insert {column}, already exists\"\u001b[0m\u001b[0;34m)\u001b[0m\u001b[0;34m\u001b[0m\u001b[0;34m\u001b[0m\u001b[0m\n\u001b[0m\u001b[1;32m   5159\u001b[0m         \u001b[0;32mif\u001b[0m \u001b[0;32mnot\u001b[0m \u001b[0mis_integer\u001b[0m\u001b[0;34m(\u001b[0m\u001b[0mloc\u001b[0m\u001b[0;34m)\u001b[0m\u001b[0;34m:\u001b[0m\u001b[0;34m\u001b[0m\u001b[0;34m\u001b[0m\u001b[0m\n\u001b[1;32m   5160\u001b[0m             \u001b[0;32mraise\u001b[0m \u001b[0mTypeError\u001b[0m\u001b[0;34m(\u001b[0m\u001b[0;34m\"loc must be int\"\u001b[0m\u001b[0;34m)\u001b[0m\u001b[0;34m\u001b[0m\u001b[0;34m\u001b[0m\u001b[0m\n\u001b[1;32m   5161\u001b[0m         \u001b[0;31m# convert non stdlib ints to satisfy typing checks\u001b[0m\u001b[0;34m\u001b[0m\u001b[0;34m\u001b[0m\u001b[0m\n",
      "\u001b[0;31mValueError\u001b[0m: cannot insert params_settings.batch_seed, already exists"
     ]
    }
   ],
   "source": [
    "# Some housekeeping to set random seed identifiers and set up simulation configurations\n",
    "# params_dict['params_settings']['batch_seed'] = batch_seed\n",
    "params_dict_run = {}\n",
    "for i, df_samples in enumerate(df_samples_dict):\n",
    "    random_seeds = np.sort(\n",
    "        np.random.choice(a=int(n_samples * 100), size=n_samples, replace=False)\n",
    "    )\n",
    "    df_samples_dict[i].insert(loc=0, column=\"params_settings.batch_seed\", value=batch_seed)\n",
    "    df_samples_dict[i].insert(loc=1, column=\"params_settings.random_seed\", value=random_seeds)\n",
    "\n",
    "    # NOTE: This sets the correct early-stopping condition, i.e., to assess the simulation from 0.1 to 10.1 seconds.\n",
    "    params_dict['params_analysis']['analysis_window'] = [0.1, None] \n",
    "\n",
    "    params_dict_run[i] = data_utils.fill_params_dict(\n",
    "        params_dict, df_samples_dict[i], posterior.as_dict, n_samples\n",
    "    )"
   ]
  },
  {
   "cell_type": "code",
   "execution_count": 63,
   "metadata": {},
   "outputs": [
    {
     "name": "stdout",
     "output_type": "stream",
     "text": [
      "cache non-existent.\n"
     ]
    },
    {
     "name": "stdout",
     "output_type": "stream",
     "text": [
      "20241121-18120241121-777|20241121-28520241121-333||20241121-62820241121-742||20241121-855|20241121-890||20241121-893|20241121-944|"
     ]
    },
    {
     "name": "stderr",
     "output_type": "stream",
     "text": [
      "WARNING    Epop's variable 'w' has NaN, very large values, or encountered an error in numerical integration. This is usually a sign that an unstable or invalid integration method was chosen. [brian2.groups.group.invalid_values]\n",
      "WARNING    Epop's variable 'v' has NaN, very large values, or encountered an error in numerical integration. This is usually a sign that an unstable or invalid integration method was chosen. [brian2.groups.group.invalid_values]\n"
     ]
    },
    {
     "name": "stdout",
     "output_type": "stream",
     "text": [
      "Simulations took 437.47 seconds.\n",
      "20241121-98|20241121-25320241121-243|20241121-38620241121-371|20241121-46520241121-506||||20241121-56120241121-67620241121-744|||Simulations took 716.61 seconds.\n",
      "20241121-28|20241121-49320241121-9120241121-70720241121-49620241121-49020241121-369||||||20241121-87020241121-91520241121-931|||Simulations took 1014.45 seconds.\n",
      "20241121-9920241121-31220241121-9620241121-515|20241121-49420241121-75320241121-95520241121-85820241121-761|||20241121-978||||||Simulations took 1413.21 seconds.\n",
      "20241121-7320241121-180|20241121-71020241121-43020241121-84320241121-28020241121-43920241121-62520241121-62120241121-868|||||||||Simulations took 1752.82 seconds.\n",
      "20241121-3420241121-7|20241121-76520241121-33320241121-75620241121-149|20241121-86320241121-431|20241121-12020241121-589|||||||Simulations took 2050.12 seconds.\n",
      "20241121-26820241121-23920241121-44020241121-53220241121-74020241121-49820241121-70720241121-982||20241121-887|||20241121-910|||||Simulations took 2354.29 seconds.\n",
      "20241121-37920241121-18420241121-43220241121-168|20241121-75|20241121-97920241121-879|20241121-59720241121-831|20241121-439||||||Simulations took 2658.19 seconds.\n",
      "20241121-54|20241121-26320241121-15220241121-356||20241121-45820241121-40220241121-53520241121-432|20241121-763||20241121-997||||Simulations took 3043.20 seconds.\n",
      "20241121-13220241121-25220241121-174|||20241121-291||20241121-73420241121-700|20241121-51920241121-75820241121-88020241121-748||||Simulations took 3349.50 seconds.\n",
      "cache cleared: ./.cache/.\n"
     ]
    }
   ],
   "source": [
    "cache_path = \"./.cache/\"\n",
    "b2_interface.clear_b2_cache(cache_path)\n",
    "b2_interface.set_b2_cache(cache_path, True)\n",
    "\n",
    "sim_parallel = True\n",
    "if sim_parallel:\n",
    "    from multiprocessing import Pool\n",
    "\n",
    "    start_time = time()\n",
    "    sim_collector = {}\n",
    "    for i in range(len(params_dict_run)):\n",
    "        with Pool(n_samples) as pool:\n",
    "            sim_collector[i] = pool.map(runners.adex_simulator, params_dict_run[i])\n",
    "        print(f\"Simulations took {time()-start_time:.2f} seconds.\")\n",
    "else:\n",
    "    sim_collector = []\n",
    "    for i_sim in range(n_samples):\n",
    "        start_time = time()\n",
    "        sim_collector.append(runners.adex_simulator(params_dict_run[i_sim]))\n",
    "        print(f\"Simulation {i_sim+1}/{n_samples} took {time()-start_time:.2f} seconds.\")\n",
    "\n",
    "b2_interface.clear_b2_cache(cache_path)"
   ]
  },
  {
   "cell_type": "markdown",
   "metadata": {},
   "source": [
    "### Compute summary features\n",
    "From the simulation data (spike trains), we can analyze them and extract the same bursting features, as well as smoothed population firing rate over time."
   ]
  },
  {
   "cell_type": "code",
   "execution_count": 84,
   "metadata": {},
   "outputs": [
    {
     "name": "stderr",
     "output_type": "stream",
     "text": [
      "WARNING    /nfs/scistore12/gaspgrp/tzuskino/automind/automind/analysis/spikes_summary.py:601: ConstantInputWarning: An input array is constant; the correlation coefficient is not defined.\n",
      "  \"burst_corr_interval2nextpeak\": stats.spearmanr(\n",
      " [py.warnings]\n",
      "WARNING    /nfs/scistore12/gaspgrp/tzuskino/automind/automind/analysis/spikes_summary.py:604: ConstantInputWarning: An input array is constant; the correlation coefficient is not defined.\n",
      "  \"burst_corr_interval2prevpeak\": stats.spearmanr(\n",
      " [py.warnings]\n",
      "WARNING    /nfs/scistore12/gaspgrp/tzuskino/miniforge3/envs/automind/lib/python3.11/site-packages/numpy/lib/_function_base_impl.py:2922: RuntimeWarning: invalid value encountered in divide\n",
      "  c /= stddev[:, None]\n",
      " [py.warnings]\n",
      "WARNING    /nfs/scistore12/gaspgrp/tzuskino/automind/automind/analysis/spikes_summary.py:601: ConstantInputWarning: An input array is constant; the correlation coefficient is not defined.\n",
      "  \"burst_corr_interval2nextpeak\": stats.spearmanr(\n",
      " [py.warnings]\n",
      "WARNING    /nfs/scistore12/gaspgrp/tzuskino/automind/automind/analysis/spikes_summary.py:604: ConstantInputWarning: An input array is constant; the correlation coefficient is not defined.\n",
      "  \"burst_corr_interval2prevpeak\": stats.spearmanr(\n",
      " [py.warnings]\n",
      "WARNING    /nfs/scistore12/gaspgrp/tzuskino/automind/automind/analysis/spikes_summary.py:615: RuntimeWarning: divide by zero encountered in divide\n",
      "  burst_stats[\"burst_mean_fr\"] / burst_stats[\"burst_heights\"]\n",
      " [py.warnings]\n",
      "WARNING    /nfs/scistore12/gaspgrp/tzuskino/miniforge3/envs/automind/lib/python3.11/site-packages/numpy/_core/_methods.py:127: RuntimeWarning: invalid value encountered in reduce\n",
      "  ret = umr_sum(arr, axis, dtype, out, keepdims, where=where)\n",
      " [py.warnings]\n",
      "WARNING    /nfs/scistore12/gaspgrp/tzuskino/automind/automind/analysis/spikes_summary.py:618: RuntimeWarning: divide by zero encountered in divide\n",
      "  burst_stats[\"burst_mean_fr\"] / burst_stats[\"burst_heights\"]\n",
      " [py.warnings]\n",
      "WARNING    /nfs/scistore12/gaspgrp/tzuskino/miniforge3/envs/automind/lib/python3.11/site-packages/numpy/_core/_methods.py:164: RuntimeWarning: invalid value encountered in reduce\n",
      "  arrmean = umr_sum(arr, axis, dtype, keepdims=True, where=where)\n",
      " [py.warnings]\n",
      "WARNING    /nfs/scistore12/gaspgrp/tzuskino/miniforge3/envs/automind/lib/python3.11/site-packages/sklearn/decomposition/_pca.py:653: RuntimeWarning: invalid value encountered in divide\n",
      "  explained_variance_ratio_ = explained_variance_ / total_var\n",
      " [py.warnings]\n"
     ]
    }
   ],
   "source": [
    "results_collector = {}\n",
    "for i in range(len(params_dict_run)):\n",
    "    results_collector[i] = [\n",
    "        analysis_utils.compute_summary_features(sims[1], sims[0]) for sims in sim_collector[i]\n",
    "    ]"
   ]
  },
  {
   "cell_type": "markdown",
   "metadata": {},
   "source": [
    "### Plot the discovered model simulations\n",
    "Finally, we plot the simulated spike trains and the population firing rate of each discovered model. \n",
    "\n",
    "Note that we will first re-order the simulations based on their similarity to the real data (to show the best models first). We will plot the real data to the right for comparison."
   ]
  },
  {
   "cell_type": "code",
   "execution_count": 100,
   "metadata": {},
   "outputs": [
    {
     "name": "stdout",
     "output_type": "stream",
     "text": [
      "   burst_num  burst_interval_mean  burst_interval_std  burst_interval_cv  \\\n",
      "0        290             0.692287            0.151408           0.218707   \n",
      "\n",
      "   burst_peak_fr_mean  burst_peak_fr_std  burst_width_mean  burst_width_std  \\\n",
      "0           13.462065           1.508097           0.75014         1.048888   \n",
      "\n",
      "   burst_onset_time_mean  burst_onset_time_std  burst_offset_time_mean  \\\n",
      "0               0.418394              0.789182                0.331746   \n",
      "\n",
      "   burst_offset_time_std  burst_corr_mean  burst_corr_std  \\\n",
      "0               0.498429         0.020945        0.048063   \n",
      "\n",
      "   burst_corr_interval2nextpeak  burst_corr_interval2prevpeak  \\\n",
      "0                      0.205997                       0.02309   \n",
      "\n",
      "   burst_numsubpeaks_mean  burst_numsubpeaks_std  burst_mean_fr_mean  \\\n",
      "0                     4.1               6.517377            0.562939   \n",
      "\n",
      "   burst_mean_fr_std  \n",
      "0            0.07093  \n",
      "Empty DataFrame\n",
      "Columns: [burst_num, burst_interval_mean, burst_interval_std, burst_interval_cv, burst_peak_fr_mean, burst_peak_fr_std, burst_width_mean, burst_width_std, burst_onset_time_mean, burst_onset_time_std, burst_offset_time_mean, burst_offset_time_std, burst_corr_mean, burst_corr_std, burst_corr_interval2nextpeak, burst_corr_interval2prevpeak, burst_numsubpeaks_mean, burst_numsubpeaks_std, burst_mean_fr_mean, burst_mean_fr_std]\n",
      "Index: []\n",
      "   burst_num  burst_interval_mean  burst_interval_std  burst_interval_cv  \\\n",
      "0         61             3.321233            0.086918            0.02617   \n",
      "\n",
      "   burst_peak_fr_mean  burst_peak_fr_std  burst_width_mean  burst_width_std  \\\n",
      "0          250.045723            0.00338          0.916961         0.026618   \n",
      "\n",
      "   burst_onset_time_mean  burst_onset_time_std  burst_offset_time_mean  \\\n",
      "0               0.136831              0.044765                 0.78013   \n",
      "\n",
      "   burst_offset_time_std  burst_corr_mean  burst_corr_std  \\\n",
      "0               0.052335         0.940345        0.048092   \n",
      "\n",
      "   burst_corr_interval2nextpeak  burst_corr_interval2prevpeak  \\\n",
      "0                      -0.09267                      0.195871   \n",
      "\n",
      "   burst_numsubpeaks_mean  burst_numsubpeaks_std  burst_mean_fr_mean  \\\n",
      "0                     0.0                    0.0            0.937959   \n",
      "\n",
      "   burst_mean_fr_std  \n",
      "0            0.00738  \n",
      "   burst_num  burst_interval_mean  burst_interval_std  burst_interval_cv  \\\n",
      "0         56             3.591673            0.569541           0.158573   \n",
      "\n",
      "   burst_peak_fr_mean  burst_peak_fr_std  burst_width_mean  burst_width_std  \\\n",
      "0          172.045195            0.73104          0.391905         0.014871   \n",
      "\n",
      "   burst_onset_time_mean  burst_onset_time_std  burst_offset_time_mean  \\\n",
      "0               0.104764              0.021848                 0.28714   \n",
      "\n",
      "   burst_offset_time_std  burst_corr_mean  burst_corr_std  \\\n",
      "0               0.011638         0.897522        0.135297   \n",
      "\n",
      "   burst_corr_interval2nextpeak  burst_corr_interval2prevpeak  \\\n",
      "0                      0.772367                      0.058514   \n",
      "\n",
      "   burst_numsubpeaks_mean  burst_numsubpeaks_std  burst_mean_fr_mean  \\\n",
      "0                     0.0                    0.0            0.753707   \n",
      "\n",
      "   burst_mean_fr_std  \n",
      "0           0.035141  \n",
      "   burst_num  burst_interval_mean  burst_interval_std  burst_interval_cv  \\\n",
      "0        258             0.775284            0.894874           1.154253   \n",
      "\n",
      "   burst_peak_fr_mean  burst_peak_fr_std  burst_width_mean  burst_width_std  \\\n",
      "0           33.276628          11.596702          0.100502         0.169535   \n",
      "\n",
      "   burst_onset_time_mean  burst_onset_time_std  burst_offset_time_mean  \\\n",
      "0               0.033565              0.045957                0.066937   \n",
      "\n",
      "   burst_offset_time_std  burst_corr_mean  burst_corr_std  \\\n",
      "0               0.123955         0.264445        0.149985   \n",
      "\n",
      "   burst_corr_interval2nextpeak  burst_corr_interval2prevpeak  \\\n",
      "0                       0.33029                      0.016013   \n",
      "\n",
      "   burst_numsubpeaks_mean  burst_numsubpeaks_std  burst_mean_fr_mean  \\\n",
      "0                     0.0                    0.0             0.63485   \n",
      "\n",
      "   burst_mean_fr_std  \n",
      "0           0.040085  \n",
      "   burst_num  burst_interval_mean  burst_interval_std  burst_interval_cv  \\\n",
      "0         19            10.791056             0.46486           0.043078   \n",
      "\n",
      "   burst_peak_fr_mean  burst_peak_fr_std  burst_width_mean  burst_width_std  \\\n",
      "0          258.907393           0.689043          0.605948         0.015818   \n",
      "\n",
      "   burst_onset_time_mean  burst_onset_time_std  burst_offset_time_mean  \\\n",
      "0               0.068581              0.012982                0.537367   \n",
      "\n",
      "   burst_offset_time_std  burst_corr_mean  burst_corr_std  \\\n",
      "0               0.022739         0.982484        0.016128   \n",
      "\n",
      "   burst_corr_interval2nextpeak  burst_corr_interval2prevpeak  \\\n",
      "0                      0.690402                      0.174407   \n",
      "\n",
      "   burst_numsubpeaks_mean  burst_numsubpeaks_std  burst_mean_fr_mean  \\\n",
      "0                     0.0                    0.0            0.900123   \n",
      "\n",
      "   burst_mean_fr_std  \n",
      "0           0.011386  \n",
      "   burst_num  burst_interval_mean  burst_interval_std  burst_interval_cv  \\\n",
      "0        287             0.699101            0.170655           0.244107   \n",
      "\n",
      "   burst_peak_fr_mean  burst_peak_fr_std  burst_width_mean  burst_width_std  \\\n",
      "0           21.154676          11.106102          0.216249         0.165726   \n",
      "\n",
      "   burst_onset_time_mean  burst_onset_time_std  burst_offset_time_mean  \\\n",
      "0               0.118718              0.114175                0.097531   \n",
      "\n",
      "   burst_offset_time_std  burst_corr_mean  burst_corr_std  \\\n",
      "0               0.105703         0.061113        0.118809   \n",
      "\n",
      "   burst_corr_interval2nextpeak  burst_corr_interval2prevpeak  \\\n",
      "0                      0.205048                      0.195816   \n",
      "\n",
      "   burst_numsubpeaks_mean  burst_numsubpeaks_std  burst_mean_fr_mean  \\\n",
      "0                0.965157                1.22922            0.488545   \n",
      "\n",
      "   burst_mean_fr_std  \n",
      "0           0.074532  \n",
      "   burst_num  burst_interval_mean  burst_interval_std  burst_interval_cv  \\\n",
      "0         24             8.359043             0.37486           0.044845   \n",
      "\n",
      "   burst_peak_fr_mean  burst_peak_fr_std  burst_width_mean  burst_width_std  \\\n",
      "0          150.283245           5.301331           0.51571         0.050194   \n",
      "\n",
      "   burst_onset_time_mean  burst_onset_time_std  burst_offset_time_mean  \\\n",
      "0               0.127543              0.019397                0.388167   \n",
      "\n",
      "   burst_offset_time_std  burst_corr_mean  burst_corr_std  \\\n",
      "0               0.055773         0.989665        0.009594   \n",
      "\n",
      "   burst_corr_interval2nextpeak  burst_corr_interval2prevpeak  \\\n",
      "0                      0.675889                      0.365613   \n",
      "\n",
      "   burst_numsubpeaks_mean  burst_numsubpeaks_std  burst_mean_fr_mean  \\\n",
      "0                     0.0                    0.0            0.804434   \n",
      "\n",
      "   burst_mean_fr_std  \n",
      "0           0.026189  \n",
      "   burst_num  burst_interval_mean  burst_interval_std  burst_interval_cv  \\\n",
      "0         46                4.393            0.562798           0.128112   \n",
      "\n",
      "   burst_peak_fr_mean  burst_peak_fr_std  burst_width_mean  burst_width_std  \\\n",
      "0          197.682373           0.231614          0.636394         0.004292   \n",
      "\n",
      "   burst_onset_time_mean  burst_onset_time_std  burst_offset_time_mean  \\\n",
      "0               0.055669               0.00954                0.580724   \n",
      "\n",
      "   burst_offset_time_std  burst_corr_mean  burst_corr_std  \\\n",
      "0               0.009856         0.989924        0.010741   \n",
      "\n",
      "   burst_corr_interval2nextpeak  burst_corr_interval2prevpeak  \\\n",
      "0                      0.240324                      0.005402   \n",
      "\n",
      "   burst_numsubpeaks_mean  burst_numsubpeaks_std  burst_mean_fr_mean  \\\n",
      "0                     0.0                    0.0            0.910569   \n",
      "\n",
      "   burst_mean_fr_std  \n",
      "0           0.003138  \n",
      "   burst_num  burst_interval_mean  burst_interval_std  burst_interval_cv  \\\n",
      "0        271             0.738874            0.744316           1.007365   \n",
      "\n",
      "   burst_peak_fr_mean  burst_peak_fr_std  burst_width_mean  burst_width_std  \\\n",
      "0           22.157534           12.22948          0.215769         0.083254   \n",
      "\n",
      "   burst_onset_time_mean  burst_onset_time_std  burst_offset_time_mean  \\\n",
      "0                0.13032              0.048097                0.085448   \n",
      "\n",
      "   burst_offset_time_std  burst_corr_mean  burst_corr_std  \\\n",
      "0               0.076309         0.214378        0.177823   \n",
      "\n",
      "   burst_corr_interval2nextpeak  burst_corr_interval2prevpeak  \\\n",
      "0                      0.001044                      0.282817   \n",
      "\n",
      "   burst_numsubpeaks_mean  burst_numsubpeaks_std  burst_mean_fr_mean  \\\n",
      "0                0.121771                0.34886            0.467843   \n",
      "\n",
      "   burst_mean_fr_std  \n",
      "0           0.081939  \n"
     ]
    }
   ],
   "source": [
    "model_stats = np.ones((n_samples, len(cols_features))) * np.inf\n",
    "for i_sim, rc in enumerate(results_collector[0]):\n",
    "    print(rc['summary_bursts'])\n",
    "    if not rc['summary_bursts'][cols_features].empty:\n",
    "        model_stats[i_sim, :] = rc['summary_bursts'][cols_features].values"
   ]
  },
  {
   "cell_type": "code",
   "execution_count": 101,
   "metadata": {},
   "outputs": [
    {
     "name": "stderr",
     "output_type": "stream",
     "text": [
      "WARNING    /tmp/ipykernel_2553933/1849124177.py:8: RuntimeWarning: divide by zero encountered in log10\n",
      "  ordered[i] = np.argsort(np.abs(np.log10(model_stats) - xo[i]).sum(axis=1))\n",
      " [py.warnings]\n"
     ]
    }
   ],
   "source": [
    "ordered = {}\n",
    "for i in range(len(params_dict_run)):    \n",
    "    model_stats = np.ones((n_samples, len(cols_features))) * np.inf\n",
    "    for i_sim, rc in enumerate(results_collector[i]):\n",
    "        if not rc['summary_bursts'][cols_features].empty:\n",
    "            model_stats[i_sim, :] = rc['summary_bursts'][cols_features].values\n",
    "\n",
    "    ordered[i] = np.argsort(np.abs(np.log10(model_stats) - xo[i]).sum(axis=1))"
   ]
  },
  {
   "cell_type": "code",
   "execution_count": 102,
   "metadata": {},
   "outputs": [
    {
     "data": {
      "text/plain": [
       "{0: array([3, 8, 0, 7, 6, 9, 5, 2, 4, 1]),\n",
       " 1: array([5, 0, 9, 2, 4, 3, 6, 1, 7, 8]),\n",
       " 2: array([9, 8, 1, 0, 4, 5, 2, 3, 7, 6]),\n",
       " 3: array([5, 0, 2, 1, 3, 4, 6, 7, 8, 9]),\n",
       " 4: array([6, 0, 5, 1, 3, 2, 4, 7, 8, 9]),\n",
       " 5: array([9, 1, 6, 2, 3, 4, 5, 0, 7, 8]),\n",
       " 6: array([6, 2, 1, 0, 3, 4, 5, 7, 8, 9]),\n",
       " 7: array([8, 1, 3, 7, 2, 4, 5, 0, 6, 9]),\n",
       " 8: array([3, 2, 7, 9, 5, 1, 0, 6, 4, 8]),\n",
       " 9: array([7, 1, 3, 8, 4, 2, 5, 0, 6, 9])}"
      ]
     },
     "execution_count": 102,
     "metadata": {},
     "output_type": "execute_result"
    }
   ],
   "source": [
    "ordered"
   ]
  },
  {
   "cell_type": "markdown",
   "metadata": {},
   "source": [
    "### Save the data to be plotted later"
   ]
  },
  {
   "cell_type": "code",
   "execution_count": null,
   "metadata": {},
   "outputs": [],
   "source": [
    "with open('sim_collector.pickle', 'wb') as f:\n",
    "    pickle.dump(sim_collector, f)\n",
    "\n",
    "with open('ordered.pickle', 'wb') as f:\n",
    "    pickle.dump(ordered, f)"
   ]
  }
 ],
 "metadata": {
  "kernelspec": {
   "display_name": "automind",
   "language": "python",
   "name": "python3"
  },
  "language_info": {
   "codemirror_mode": {
    "name": "ipython",
    "version": 3
   },
   "file_extension": ".py",
   "mimetype": "text/x-python",
   "name": "python",
   "nbconvert_exporter": "python",
   "pygments_lexer": "ipython3",
   "version": "3.11.10"
  }
 },
 "nbformat": 4,
 "nbformat_minor": 4
}
